{
  "cells": [
    {
      "cell_type": "markdown",
      "metadata": {
        "id": "view-in-github",
        "colab_type": "text"
      },
      "source": [
        "<a href=\"https://colab.research.google.com/github/samuelHurh/CS222_ImagePixelator/blob/main/CS_444_Assignment_1.ipynb\" target=\"_parent\"><img src=\"https://colab.research.google.com/assets/colab-badge.svg\" alt=\"Open In Colab\"/></a>"
      ]
    },
    {
      "cell_type": "markdown",
      "metadata": {
        "id": "iyLVacUofzcC"
      },
      "source": [
        "# (Optional) Colab Setup\n",
        "If you aren't using Colab, you can delete the following code cell. This is just to help students with mounting to Google Drive to access the other .py files and downloading the data, which is a little trickier on Colab than on your local machine using Jupyter."
      ]
    },
    {
      "cell_type": "code",
      "execution_count": 1,
      "metadata": {
        "colab": {
          "base_uri": "https://localhost:8080/",
          "height": 0
        },
        "id": "TgkqEqWBfzcG",
        "outputId": "8c5d094c-4348-453f-8e69-90445364ca75"
      },
      "outputs": [
        {
          "output_type": "stream",
          "name": "stdout",
          "text": [
            "Mounted at /content/drive\n"
          ]
        }
      ],
      "source": [
        "# you will be prompted with a window asking to grant permissions\n",
        "from google.colab import drive\n",
        "drive.mount(\"/content/drive\")"
      ]
    },
    {
      "cell_type": "code",
      "execution_count": 2,
      "metadata": {
        "colab": {
          "base_uri": "https://localhost:8080/",
          "height": 0
        },
        "id": "SHfjaqhZfzcJ",
        "outputId": "88977078-4f55-4b02-8968-b42d3835c1ee"
      },
      "outputs": [
        {
          "output_type": "stream",
          "name": "stdout",
          "text": [
            "/content/drive/My Drive/Notes_SP2024/CS444/assignment1/assignment1\n"
          ]
        }
      ],
      "source": [
        "# fill in the path in your Google Drive in the string below. Note: do not escape slashes or spaces\n",
        "import os\n",
        "#/content/drive/MyDrive/Notes_SP2024/CS444/assignment1/assignment1\n",
        "datadir = \"/content/assignment1\"\n",
        "if not os.path.exists(datadir):\n",
        "  !ln -s \"/content/drive/My Drive/Notes_SP2024/CS444/assignment1/assignment1/\" $datadir\n",
        "os.chdir(datadir)\n",
        "!pwd"
      ]
    },
    {
      "cell_type": "code",
      "execution_count": 3,
      "metadata": {
        "colab": {
          "base_uri": "https://localhost:8080/",
          "height": 0
        },
        "id": "2eHx6CT0fzcK",
        "outputId": "0c83c280-b725-4292-eb3e-0e3b9691b31d"
      },
      "outputs": [
        {
          "output_type": "stream",
          "name": "stdout",
          "text": [
            "--2024-02-16 02:12:04--  https://raw.githubusercontent.com/zalandoresearch/fashion-mnist/master/data/fashion/t10k-images-idx3-ubyte.gz\n",
            "Resolving raw.githubusercontent.com (raw.githubusercontent.com)... 185.199.108.133, 185.199.109.133, 185.199.110.133, ...\n",
            "Connecting to raw.githubusercontent.com (raw.githubusercontent.com)|185.199.108.133|:443... connected.\n",
            "HTTP request sent, awaiting response... 200 OK\n",
            "Length: 4422102 (4.2M) [application/octet-stream]\n",
            "Saving to: ‘t10k-images-idx3-ubyte.gz.5’\n",
            "\n",
            "t10k-images-idx3-ub 100%[===================>]   4.22M  --.-KB/s    in 0.1s    \n",
            "\n",
            "2024-02-16 02:12:05 (41.5 MB/s) - ‘t10k-images-idx3-ubyte.gz.5’ saved [4422102/4422102]\n",
            "\n",
            "--2024-02-16 02:12:05--  https://raw.githubusercontent.com/zalandoresearch/fashion-mnist/master/data/fashion/t10k-labels-idx1-ubyte.gz\n",
            "Resolving raw.githubusercontent.com (raw.githubusercontent.com)... 185.199.109.133, 185.199.110.133, 185.199.108.133, ...\n",
            "Connecting to raw.githubusercontent.com (raw.githubusercontent.com)|185.199.109.133|:443... connected.\n",
            "HTTP request sent, awaiting response... 200 OK\n",
            "Length: 5148 (5.0K) [application/octet-stream]\n",
            "Saving to: ‘t10k-labels-idx1-ubyte.gz.5’\n",
            "\n",
            "t10k-labels-idx1-ub 100%[===================>]   5.03K  --.-KB/s    in 0.004s  \n",
            "\n",
            "2024-02-16 02:12:05 (1.27 MB/s) - ‘t10k-labels-idx1-ubyte.gz.5’ saved [5148/5148]\n",
            "\n",
            "--2024-02-16 02:12:05--  https://raw.githubusercontent.com/zalandoresearch/fashion-mnist/master/data/fashion/train-images-idx3-ubyte.gz\n",
            "Resolving raw.githubusercontent.com (raw.githubusercontent.com)... 185.199.111.133, 185.199.110.133, 185.199.109.133, ...\n",
            "Connecting to raw.githubusercontent.com (raw.githubusercontent.com)|185.199.111.133|:443... connected.\n",
            "HTTP request sent, awaiting response... 200 OK\n",
            "Length: 26421880 (25M) [application/octet-stream]\n",
            "Saving to: ‘train-images-idx3-ubyte.gz.5’\n",
            "\n",
            "train-images-idx3-u 100%[===================>]  25.20M  51.8MB/s    in 0.5s    \n",
            "\n",
            "2024-02-16 02:12:06 (51.8 MB/s) - ‘train-images-idx3-ubyte.gz.5’ saved [26421880/26421880]\n",
            "\n",
            "--2024-02-16 02:12:06--  https://raw.githubusercontent.com/zalandoresearch/fashion-mnist/master/data/fashion/train-labels-idx1-ubyte.gz\n",
            "Resolving raw.githubusercontent.com (raw.githubusercontent.com)... 185.199.108.133, 185.199.109.133, 185.199.110.133, ...\n",
            "Connecting to raw.githubusercontent.com (raw.githubusercontent.com)|185.199.108.133|:443... connected.\n",
            "HTTP request sent, awaiting response... 200 OK\n",
            "Length: 29515 (29K) [application/octet-stream]\n",
            "Saving to: ‘train-labels-idx1-ubyte.gz.5’\n",
            "\n",
            "train-labels-idx1-u 100%[===================>]  28.82K  --.-KB/s    in 0.004s  \n",
            "\n",
            "2024-02-16 02:12:06 (7.24 MB/s) - ‘train-labels-idx1-ubyte.gz.5’ saved [29515/29515]\n",
            "\n"
          ]
        }
      ],
      "source": [
        "# downloading Fashion-MNIST\n",
        "import os\n",
        "os.chdir(os.path.join(datadir,\"fashion-mnist/\"))\n",
        "!chmod +x ./get_data.sh\n",
        "!./get_data.sh\n",
        "os.chdir(datadir)"
      ]
    },
    {
      "cell_type": "markdown",
      "metadata": {
        "id": "0ZnLMdVrfzcL"
      },
      "source": [
        "# Imports"
      ]
    },
    {
      "cell_type": "code",
      "execution_count": 4,
      "metadata": {
        "id": "zdb3Xe9hfzcM"
      },
      "outputs": [],
      "source": [
        "import random\n",
        "import numpy as np\n",
        "from data_process import get_FASHION_data, get_RICE_data\n",
        "from scipy.spatial import distance\n",
        "from models import Perceptron, SVM, Softmax, Logistic\n",
        "from kaggle_submission import output_submission_csv\n",
        "%matplotlib inline\n",
        "\n",
        "# For auto-reloading external modules\n",
        "# See http://stackoverflow.com/questions/1907993/autoreload-of-modules-in-ipython\n",
        "%load_ext autoreload\n",
        "%autoreload 2"
      ]
    },
    {
      "cell_type": "markdown",
      "metadata": {
        "id": "pxSG_oa5fzcM"
      },
      "source": [
        "# Loading Fashion-MNIST"
      ]
    },
    {
      "cell_type": "markdown",
      "metadata": {
        "id": "MR8uR92KfzcN"
      },
      "source": [
        "In the following cells we determine the number of images for each split and load the images.\n",
        "<br />\n",
        "TRAIN_IMAGES + VAL_IMAGES = (0, 60000]\n",
        ", TEST_IMAGES = 10000"
      ]
    },
    {
      "cell_type": "code",
      "execution_count": 5,
      "metadata": {
        "id": "JRD-A_qYfzcN"
      },
      "outputs": [],
      "source": [
        "# You can change these numbers for experimentation\n",
        "# For submission we will use the default values\n",
        "TRAIN_IMAGES = 50000\n",
        "VAL_IMAGES = 10000\n",
        "normalize = True"
      ]
    },
    {
      "cell_type": "code",
      "execution_count": 6,
      "metadata": {
        "id": "otTFnE9efzcO"
      },
      "outputs": [],
      "source": [
        "data = get_FASHION_data(TRAIN_IMAGES, VAL_IMAGES, normalize=normalize)\n",
        "X_train_fashion, y_train_fashion = data['X_train'], data['y_train']\n",
        "X_val_fashion, y_val_fashion = data['X_val'], data['y_val']\n",
        "X_test_fashion, y_test_fashion = data['X_test'], data['y_test']\n",
        "n_class_fashion = len(np.unique(y_test_fashion))"
      ]
    },
    {
      "cell_type": "markdown",
      "metadata": {
        "id": "UN5PHjBjfzcO"
      },
      "source": [
        "# Loading Rice"
      ]
    },
    {
      "cell_type": "code",
      "execution_count": 7,
      "metadata": {
        "colab": {
          "base_uri": "https://localhost:8080/",
          "height": 0
        },
        "id": "tIOSd783fzcP",
        "outputId": "597704ce-6144-4c2d-c40b-5e159b79b061"
      },
      "outputs": [
        {
          "output_type": "stream",
          "name": "stdout",
          "text": [
            "Number of train samples:  10911\n",
            "Number of val samples:  3637\n",
            "Number of test samples:  3637\n"
          ]
        }
      ],
      "source": [
        "# loads train / test / val splits of 80%, 20%, 20%\n",
        "data = get_RICE_data()\n",
        "X_train_RICE, y_train_RICE = data['X_train'], data['y_train']\n",
        "X_val_RICE, y_val_RICE = data['X_val'], data['y_val']\n",
        "X_test_RICE, y_test_RICE = data['X_test'], data['y_test']\n",
        "n_class_RICE = len(np.unique(y_test_RICE))\n",
        "\n",
        "print(\"Number of train samples: \", X_train_RICE.shape[0])\n",
        "print(\"Number of val samples: \", X_val_RICE.shape[0])\n",
        "print(\"Number of test samples: \", X_test_RICE.shape[0])"
      ]
    },
    {
      "cell_type": "markdown",
      "metadata": {
        "id": "p5vpSNMdfzcQ"
      },
      "source": [
        "### Get Accuracy"
      ]
    },
    {
      "cell_type": "markdown",
      "metadata": {
        "id": "LOXQ-8YCfzcQ"
      },
      "source": [
        "This function computes how well your model performs using accuracy as a metric."
      ]
    },
    {
      "cell_type": "code",
      "execution_count": 8,
      "metadata": {
        "id": "SIkd-5fufzcR"
      },
      "outputs": [],
      "source": [
        "def get_acc(pred, y_test):\n",
        "    return np.sum(y_test == pred) / len(y_test) * 100"
      ]
    },
    {
      "cell_type": "markdown",
      "metadata": {
        "id": "c0URU-befzcR"
      },
      "source": [
        "# Perceptron"
      ]
    },
    {
      "cell_type": "markdown",
      "metadata": {
        "id": "SZKA7tZvfzcS"
      },
      "source": [
        "Perceptron has 2 hyperparameters that you can experiment with:\n",
        "### Learning rate\n",
        "The learning rate controls how much we change the current weights of the classifier during each update. We set it at a default value of 0.5, but you should experiment with different values. Here is a guide to help you find a right learning rate:\n",
        "- Try values ranging from 5.0 to 0.0005 to see the impact on model accuracy.\n",
        "- If the accuracy fluctuates a lot or diverges, the learning rate is too high. Try decreasing it by a factor of 10 (e.g. from 0.5 to 0.05).\n",
        "- If the accuracy is changing very slowly, the learning rate may be too low. Try increasing it by a factor of 10.\n",
        "- You can also try adding a learning rate decay to slowly reduce the learning rate over each training epoch. For example, multiply the learning rate by 0.95 after each epoch.\n",
        "- Plot training and validation accuracy over epochs for different learning rates. This will help you visualize the impact of the learning rate.\n",
        "- [Here](https://towardsdatascience.com/https-medium-com-dashingaditya-rakhecha-understanding-learning-rate-dd5da26bb6de) is a detailed guide to learning rate.\n",
        "\n",
        "### Number of Epochs\n",
        "An epoch is a complete iterative pass over all of the data in the dataset. During an epoch we predict a label using the classifier and then update the weights of the classifier according to the perceptron update rule for each sample in the training set. You should try different values for the number of training epochs and report your results."
      ]
    },
    {
      "cell_type": "markdown",
      "metadata": {
        "id": "YrlwI9rhfzcS"
      },
      "source": [
        "You will implement the Perceptron classifier in the **models/perceptron.py**\n",
        "\n",
        "The following code:\n",
        "- Creates an instance of the Perceptron classifier class\n",
        "- The train function of the Perceptron class is trained on the training data\n",
        "- We use the predict function to find the training accuracy as well as the testing accuracy\n"
      ]
    },
    {
      "cell_type": "markdown",
      "metadata": {
        "id": "n4LrBhEmfzcT"
      },
      "source": [
        "## Train Perceptron on Fashion-MNIST"
      ]
    },
    {
      "cell_type": "code",
      "execution_count": 127,
      "metadata": {
        "id": "PyIoccR8fzcT"
      },
      "outputs": [],
      "source": [
        "lr = 0.5\n",
        "n_epochs = 10\n",
        "\n",
        "percept_fashion = Perceptron(n_class_fashion, lr, n_epochs)\n",
        "percept_fashion.train(X_train_fashion, y_train_fashion)"
      ]
    },
    {
      "cell_type": "code",
      "execution_count": 128,
      "metadata": {
        "id": "1bJ5_H2tfzcT",
        "colab": {
          "base_uri": "https://localhost:8080/"
        },
        "outputId": "e5df3e62-c2b3-49e7-f4a9-9e5238faaf40"
      },
      "outputs": [
        {
          "output_type": "stream",
          "name": "stdout",
          "text": [
            "The training accuracy is given by: 84.462000\n"
          ]
        }
      ],
      "source": [
        "pred_percept = percept_fashion.predict(X_train_fashion)\n",
        "print('The training accuracy is given by: %f' % (get_acc(pred_percept, y_train_fashion)))"
      ]
    },
    {
      "cell_type": "markdown",
      "metadata": {
        "id": "f8xmAnZ5fzcU"
      },
      "source": [
        "### Validate Perceptron on Fashion-MNIST"
      ]
    },
    {
      "cell_type": "code",
      "execution_count": 129,
      "metadata": {
        "id": "ClMZ7Sg5fzcU",
        "colab": {
          "base_uri": "https://localhost:8080/"
        },
        "outputId": "0a3a1100-a49b-43ed-b1a6-365a6989bd14"
      },
      "outputs": [
        {
          "output_type": "stream",
          "name": "stdout",
          "text": [
            "The validation accuracy is given by: 82.350000\n"
          ]
        }
      ],
      "source": [
        "pred_percept = percept_fashion.predict(X_val_fashion)\n",
        "print('The validation accuracy is given by: %f' % (get_acc(pred_percept, y_val_fashion)))"
      ]
    },
    {
      "cell_type": "markdown",
      "metadata": {
        "id": "GGYRh3rUfzcV"
      },
      "source": [
        "### Test Perceptron on Fashion-MNIST"
      ]
    },
    {
      "cell_type": "code",
      "execution_count": 130,
      "metadata": {
        "id": "fdR5mwZVfzcV",
        "colab": {
          "base_uri": "https://localhost:8080/"
        },
        "outputId": "8c61fe49-0760-4c54-fec9-c4633d79a75d"
      },
      "outputs": [
        {
          "output_type": "stream",
          "name": "stdout",
          "text": [
            "The testing accuracy is given by: 81.430000\n"
          ]
        }
      ],
      "source": [
        "pred_percept = percept_fashion.predict(X_test_fashion)\n",
        "print('The testing accuracy is given by: %f' % (get_acc(pred_percept, y_test_fashion)))"
      ]
    },
    {
      "cell_type": "markdown",
      "metadata": {
        "id": "7YKFV4EUfzcV"
      },
      "source": [
        "### Perceptron_Fashion-MNIST Kaggle Submission\n",
        "\n",
        "Once you are satisfied with your solution and test accuracy, output a file to submit your test set predictions to the Kaggle for Assignment 1 Fashion-MNIST. Use the following code to do so:"
      ]
    },
    {
      "cell_type": "code",
      "execution_count": 131,
      "metadata": {
        "id": "yJYwJYvWfzcW"
      },
      "outputs": [],
      "source": [
        "output_submission_csv('kaggle/perceptron_submission_fashion.csv', percept_fashion.predict(X_test_fashion))"
      ]
    },
    {
      "cell_type": "markdown",
      "metadata": {
        "id": "qo3CnLRSfzcW"
      },
      "source": [
        "## Train Perceptron on Rice"
      ]
    },
    {
      "cell_type": "code",
      "execution_count": 105,
      "metadata": {
        "id": "ntWQ6W1rfzcX"
      },
      "outputs": [],
      "source": [
        "lr = 0.5\n",
        "n_epochs = 10\n",
        "\n",
        "percept_RICE = Perceptron(n_class_RICE, lr, n_epochs)\n",
        "percept_RICE.train(X_train_RICE, y_train_RICE)"
      ]
    },
    {
      "cell_type": "code",
      "execution_count": 106,
      "metadata": {
        "colab": {
          "base_uri": "https://localhost:8080/"
        },
        "id": "zfu0ou88fzcY",
        "outputId": "93558c40-0664-4c9e-ef72-20c99296e335"
      },
      "outputs": [
        {
          "output_type": "stream",
          "name": "stdout",
          "text": [
            "The training accuracy is given by: 99.862524\n"
          ]
        }
      ],
      "source": [
        "pred_percept = percept_RICE.predict(X_train_RICE)\n",
        "print('The training accuracy is given by: %f' % (get_acc(pred_percept, y_train_RICE)))"
      ]
    },
    {
      "cell_type": "markdown",
      "metadata": {
        "id": "nzxnC-0qfzcY"
      },
      "source": [
        "### Validate Perceptron on Rice"
      ]
    },
    {
      "cell_type": "code",
      "execution_count": 107,
      "metadata": {
        "colab": {
          "base_uri": "https://localhost:8080/"
        },
        "id": "Rde-LjkEfzcZ",
        "outputId": "5c9f01ad-bffe-4ca1-8ff0-021030b62ec3"
      },
      "outputs": [
        {
          "output_type": "stream",
          "name": "stdout",
          "text": [
            "The validation accuracy is given by: 99.862524\n"
          ]
        }
      ],
      "source": [
        "pred_percept = percept_RICE.predict(X_val_RICE)\n",
        "print('The validation accuracy is given by: %f' % (get_acc(pred_percept, y_val_RICE)))"
      ]
    },
    {
      "cell_type": "markdown",
      "metadata": {
        "id": "9i7m1DCBfzcZ"
      },
      "source": [
        "### Test Perceptron on Rice"
      ]
    },
    {
      "cell_type": "code",
      "execution_count": 125,
      "metadata": {
        "id": "7Rq_S485fzca",
        "colab": {
          "base_uri": "https://localhost:8080/"
        },
        "outputId": "5e3fa9c1-9528-4ed4-f90e-0ce18202556c"
      },
      "outputs": [
        {
          "output_type": "stream",
          "name": "stdout",
          "text": [
            "<class 'int'>\n",
            "The testing accuracy is given by: 99.780038\n"
          ]
        }
      ],
      "source": [
        "pred_percept = percept_RICE.predict(X_test_RICE)\n",
        "print('The testing accuracy is given by: %f' % (get_acc(pred_percept, y_test_RICE)))"
      ]
    },
    {
      "cell_type": "markdown",
      "metadata": {
        "id": "jCSS4NLqfzca"
      },
      "source": [
        "# Support Vector Machines (with SGD)"
      ]
    },
    {
      "cell_type": "markdown",
      "metadata": {
        "id": "RPDCy_jFfzca"
      },
      "source": [
        "Next, you will implement a \"soft margin\" SVM. In this formulation you will maximize the margin between positive and negative training examples and penalize margin violations using a hinge loss.\n",
        "\n",
        "We will optimize the SVM loss using SGD. This means you must compute the loss function with respect to model weights. You will use this gradient to update the model weights.\n",
        "\n",
        "SVM optimized with SGD has 3 hyperparameters that you can experiment with:\n",
        "- **Learning rate** - similar to as defined above in Perceptron, this parameter scales by how much the weights are changed according to the calculated gradient update.\n",
        "- **Epochs** - similar to as defined above in Perceptron.\n",
        "- **Regularization constant** - Hyperparameter to determine the strength of regularization. In this case it is a coefficient on the term which maximizes the margin. You could try different values. The default value is set to 0.05."
      ]
    },
    {
      "cell_type": "markdown",
      "metadata": {
        "id": "jiwVfC35fzcb"
      },
      "source": [
        "You will implement the SVM using SGD in the **models/svm.py**\n",
        "\n",
        "The following code:\n",
        "- Creates an instance of the SVM classifier class\n",
        "- The train function of the SVM class is trained on the training data\n",
        "- We use the predict function to find the training accuracy as well as the testing accuracy"
      ]
    },
    {
      "cell_type": "markdown",
      "metadata": {
        "id": "M_TzyzQ4fzcb"
      },
      "source": [
        "## Train SVM on Fashion-MNIST"
      ]
    },
    {
      "cell_type": "code",
      "execution_count": 132,
      "metadata": {
        "id": "BEdvNp-dfzcc"
      },
      "outputs": [],
      "source": [
        "lr = 0.5\n",
        "n_epochs = 10\n",
        "reg_const = 0.05\n",
        "\n",
        "svm_fashion = SVM(n_class_fashion, lr, n_epochs, reg_const)\n",
        "svm_fashion.train(X_train_fashion, y_train_fashion)"
      ]
    },
    {
      "cell_type": "code",
      "execution_count": 136,
      "metadata": {
        "id": "hcndWc36fzcc",
        "colab": {
          "base_uri": "https://localhost:8080/"
        },
        "outputId": "35c6f6f7-a8e6-4a84-e1c4-98b7d4f2764b"
      },
      "outputs": [
        {
          "output_type": "stream",
          "name": "stdout",
          "text": [
            "The training accuracy is given by: 84.416000\n"
          ]
        }
      ],
      "source": [
        "pred_svm = svm_fashion.predict(X_train_fashion)\n",
        "print('The training accuracy is given by: %f' % (get_acc(pred_svm, y_train_fashion)))"
      ]
    },
    {
      "cell_type": "markdown",
      "metadata": {
        "id": "Zfy5lu84fzcd"
      },
      "source": [
        "### Validate SVM on Fashion-MNIST"
      ]
    },
    {
      "cell_type": "code",
      "execution_count": 137,
      "metadata": {
        "id": "0v7Jvrm_fzcd",
        "colab": {
          "base_uri": "https://localhost:8080/"
        },
        "outputId": "daa6ae21-c45b-40a5-939b-c5611390bd70"
      },
      "outputs": [
        {
          "output_type": "stream",
          "name": "stdout",
          "text": [
            "The validation accuracy is given by: 82.630000\n"
          ]
        }
      ],
      "source": [
        "pred_svm = svm_fashion.predict(X_val_fashion)\n",
        "print('The validation accuracy is given by: %f' % (get_acc(pred_svm, y_val_fashion)))"
      ]
    },
    {
      "cell_type": "markdown",
      "metadata": {
        "id": "CpnsxEj5fzci"
      },
      "source": [
        "### Test SVM on Fashion-MNIST"
      ]
    },
    {
      "cell_type": "code",
      "execution_count": 138,
      "metadata": {
        "id": "ODaLgq5efzcj",
        "colab": {
          "base_uri": "https://localhost:8080/"
        },
        "outputId": "8f3b893c-358b-4e1c-9be5-4bcb368954e1"
      },
      "outputs": [
        {
          "output_type": "stream",
          "name": "stdout",
          "text": [
            "The testing accuracy is given by: 81.280000\n"
          ]
        }
      ],
      "source": [
        "pred_svm = svm_fashion.predict(X_test_fashion)\n",
        "print('The testing accuracy is given by: %f' % (get_acc(pred_svm, y_test_fashion)))"
      ]
    },
    {
      "cell_type": "markdown",
      "metadata": {
        "id": "0CuQdA8Jfzcj"
      },
      "source": [
        "### SVM_Fashion-MNIST Kaggle Submission\n",
        "\n",
        "Once you are satisfied with your solution and test accuracy output a file to submit your test set predictions to the Kaggle for Assignment 1 Fashion-MNIST. Use the following code to do so:"
      ]
    },
    {
      "cell_type": "code",
      "execution_count": 139,
      "metadata": {
        "id": "nhlfzJXUfzcj"
      },
      "outputs": [],
      "source": [
        "output_submission_csv('kaggle/svm_submission_fashion.csv', svm_fashion.predict(X_test_fashion))"
      ]
    },
    {
      "cell_type": "markdown",
      "metadata": {
        "id": "339JQYqffzck"
      },
      "source": [
        "## Train SVM on Rice"
      ]
    },
    {
      "cell_type": "code",
      "execution_count": 140,
      "metadata": {
        "id": "SGza34xxfzck"
      },
      "outputs": [],
      "source": [
        "lr = 0.5\n",
        "n_epochs = 10\n",
        "reg_const = 0.05\n",
        "\n",
        "svm_RICE = SVM(n_class_RICE, lr, n_epochs, reg_const)\n",
        "svm_RICE.train(X_train_RICE, y_train_RICE)"
      ]
    },
    {
      "cell_type": "code",
      "execution_count": 141,
      "metadata": {
        "id": "uGya-ClZfzcl",
        "colab": {
          "base_uri": "https://localhost:8080/"
        },
        "outputId": "10b9c0d2-053f-46ce-b97f-d09904727559"
      },
      "outputs": [
        {
          "output_type": "stream",
          "name": "stdout",
          "text": [
            "The training accuracy is given by: 99.853359\n"
          ]
        }
      ],
      "source": [
        "pred_svm = svm_RICE.predict(X_train_RICE)\n",
        "print('The training accuracy is given by: %f' % (get_acc(pred_svm, y_train_RICE)))"
      ]
    },
    {
      "cell_type": "markdown",
      "metadata": {
        "id": "jt0Ma68zfzcl"
      },
      "source": [
        "### Validate SVM on Rice"
      ]
    },
    {
      "cell_type": "code",
      "execution_count": 142,
      "metadata": {
        "id": "JwE1d2FJfzcm",
        "colab": {
          "base_uri": "https://localhost:8080/"
        },
        "outputId": "0f3166cd-586a-4c04-f31c-798c4bdf40f0"
      },
      "outputs": [
        {
          "output_type": "stream",
          "name": "stdout",
          "text": [
            "The validation accuracy is given by: 99.835029\n"
          ]
        }
      ],
      "source": [
        "pred_svm = svm_RICE.predict(X_val_RICE)\n",
        "print('The validation accuracy is given by: %f' % (get_acc(pred_svm, y_val_RICE)))"
      ]
    },
    {
      "cell_type": "markdown",
      "metadata": {
        "id": "YTygettsfzcm"
      },
      "source": [
        "## Test SVM on Rice"
      ]
    },
    {
      "cell_type": "code",
      "execution_count": 143,
      "metadata": {
        "id": "IxGkBbhPfzcn",
        "colab": {
          "base_uri": "https://localhost:8080/"
        },
        "outputId": "564cb0f6-bd46-4df3-d86b-799e67ef2111"
      },
      "outputs": [
        {
          "output_type": "stream",
          "name": "stdout",
          "text": [
            "The testing accuracy is given by: 99.780038\n"
          ]
        }
      ],
      "source": [
        "pred_svm = svm_RICE.predict(X_test_RICE)\n",
        "print('The testing accuracy is given by: %f' % (get_acc(pred_svm, y_test_RICE)))"
      ]
    },
    {
      "cell_type": "markdown",
      "metadata": {
        "id": "1mdb7j-Ofzcn"
      },
      "source": [
        "# Softmax Classifier (with SGD)"
      ]
    },
    {
      "cell_type": "markdown",
      "metadata": {
        "collapsed": true,
        "id": "gOpKCc3nfzco"
      },
      "source": [
        "Next, you will train a Softmax classifier. This classifier consists of a linear function of the input data followed by a softmax function which outputs a vector of dimension C (number of classes) for each data point. Each entry of the softmax output vector corresponds to a confidence in one of the C classes, and like a probability distribution, the entries of the output vector sum to 1. We use a cross-entropy loss on this sotmax output to train the model.\n",
        "\n",
        "Check the following link as an additional resource on softmax classification: http://cs231n.github.io/linear-classify/#softmax\n",
        "\n",
        "Once again we will train the classifier with SGD. This means you need to compute the gradients of the softmax cross-entropy loss function according to the weights and update the weights using this gradient. Check the following link to help with implementing the gradient updates: https://deepnotes.io/softmax-crossentropy"
      ]
    },
    {
      "cell_type": "markdown",
      "metadata": {
        "id": "hIpJrgCDfzcp"
      },
      "source": [
        "The softmax classifier has 3 hyperparameters that you can experiment with:\n",
        "- **Learning rate** - As above, this controls how much the model weights are updated with respect to their gradient.\n",
        "- **Number of Epochs** - As described for perceptron.\n",
        "- **Regularization constant** - Hyperparameter to determine the strength of regularization. In this case, we minimize the L2 norm of the model weights as regularization, so the regularization constant is a coefficient on the L2 norm in the combined cross-entropy and regularization objective."
      ]
    },
    {
      "cell_type": "markdown",
      "metadata": {
        "id": "H2-7jcPKfzcr"
      },
      "source": [
        "You will implement a softmax classifier using SGD in the **models/softmax.py**\n",
        "\n",
        "The following code:\n",
        "- Creates an instance of the Softmax classifier class\n",
        "- The train function of the Softmax class is trained on the training data\n",
        "- We use the predict function to find the training accuracy as well as the testing accuracy"
      ]
    },
    {
      "cell_type": "markdown",
      "metadata": {
        "id": "qIVCIjuVfzcr"
      },
      "source": [
        "## Train Softmax on Fashion-MNIST"
      ]
    },
    {
      "cell_type": "code",
      "execution_count": 171,
      "metadata": {
        "id": "d-zsipM7fzcs"
      },
      "outputs": [],
      "source": [
        "lr = 0.5\n",
        "n_epochs = 20\n",
        "reg_const = 0.5\n",
        "\n",
        "softmax_fashion = Softmax(n_class_fashion, lr, n_epochs, reg_const)\n",
        "softmax_fashion.train(X_train_fashion, y_train_fashion)"
      ]
    },
    {
      "cell_type": "code",
      "execution_count": 172,
      "metadata": {
        "id": "T1AFH65Zfzcs",
        "colab": {
          "base_uri": "https://localhost:8080/"
        },
        "outputId": "2d309424-ea99-4bfa-ff6d-77e6ff527243"
      },
      "outputs": [
        {
          "output_type": "stream",
          "name": "stdout",
          "text": [
            "The training accuracy is given by: 85.156000\n"
          ]
        }
      ],
      "source": [
        "pred_softmax = softmax_fashion.predict(X_train_fashion)\n",
        "print('The training accuracy is given by: %f' % (get_acc(pred_softmax, y_train_fashion)))"
      ]
    },
    {
      "cell_type": "markdown",
      "metadata": {
        "id": "zotbH4sNfzct"
      },
      "source": [
        "### Validate Softmax on Fashion-MNIST"
      ]
    },
    {
      "cell_type": "code",
      "execution_count": 173,
      "metadata": {
        "id": "XkrbeBtGfzct",
        "colab": {
          "base_uri": "https://localhost:8080/"
        },
        "outputId": "a58b62ab-6e4d-486f-d519-43d4187b5a07"
      },
      "outputs": [
        {
          "output_type": "stream",
          "name": "stdout",
          "text": [
            "The validation accuracy is given by: 82.710000\n"
          ]
        }
      ],
      "source": [
        "pred_softmax = softmax_fashion.predict(X_val_fashion)\n",
        "print('The validation accuracy is given by: %f' % (get_acc(pred_softmax, y_val_fashion)))"
      ]
    },
    {
      "cell_type": "markdown",
      "metadata": {
        "id": "yumt3NtKfzct"
      },
      "source": [
        "### Testing Softmax on Fashion-MNIST"
      ]
    },
    {
      "cell_type": "code",
      "execution_count": 174,
      "metadata": {
        "id": "yGqXxmeRfzcu",
        "colab": {
          "base_uri": "https://localhost:8080/"
        },
        "outputId": "31ad764f-d0c2-4664-cad1-655e1cb9cac7"
      },
      "outputs": [
        {
          "output_type": "stream",
          "name": "stdout",
          "text": [
            "The testing accuracy is given by: 82.260000\n"
          ]
        }
      ],
      "source": [
        "pred_softmax = softmax_fashion.predict(X_test_fashion)\n",
        "print('The testing accuracy is given by: %f' % (get_acc(pred_softmax, y_test_fashion)))"
      ]
    },
    {
      "cell_type": "markdown",
      "metadata": {
        "id": "59y17D8Qfzcu"
      },
      "source": [
        "### Softmax_Fashion-MNIST Kaggle Submission\n",
        "\n",
        "Once you are satisfied with your solution and test accuracy output a file to submit your test set predictions to the Kaggle for Assignment 1 Fashion-MNIST. Use the following code to do so:"
      ]
    },
    {
      "cell_type": "code",
      "execution_count": 175,
      "metadata": {
        "id": "ZOJDglejfzcv"
      },
      "outputs": [],
      "source": [
        "output_submission_csv('kaggle/softmax_submission_fashion.csv', softmax_fashion.predict(X_test_fashion))"
      ]
    },
    {
      "cell_type": "markdown",
      "metadata": {
        "id": "-z7JBEztfzcv"
      },
      "source": [
        "## Train Softmax on Rice"
      ]
    },
    {
      "cell_type": "code",
      "execution_count": 176,
      "metadata": {
        "id": "JgshEkkafzcw"
      },
      "outputs": [],
      "source": [
        "lr = 0.5\n",
        "n_epochs = 10\n",
        "reg_const = 0.05\n",
        "\n",
        "softmax_RICE = Softmax(n_class_RICE, lr, n_epochs, reg_const)\n",
        "softmax_RICE.train(X_train_RICE, y_train_RICE)"
      ]
    },
    {
      "cell_type": "code",
      "execution_count": 177,
      "metadata": {
        "id": "T2r4y2Xgfzcw",
        "colab": {
          "base_uri": "https://localhost:8080/"
        },
        "outputId": "eb36699f-c830-48a3-c15b-1bb141e47f7e"
      },
      "outputs": [
        {
          "output_type": "stream",
          "name": "stdout",
          "text": [
            "The training accuracy is given by: 99.844194\n"
          ]
        }
      ],
      "source": [
        "pred_softmax = softmax_RICE.predict(X_train_RICE)\n",
        "print('The training accuracy is given by: %f' % (get_acc(pred_softmax, y_train_RICE)))"
      ]
    },
    {
      "cell_type": "markdown",
      "metadata": {
        "id": "48hzQ45sfzcx"
      },
      "source": [
        "### Validate Softmax on Rice"
      ]
    },
    {
      "cell_type": "code",
      "execution_count": 178,
      "metadata": {
        "id": "mecj8tbSfzcx",
        "colab": {
          "base_uri": "https://localhost:8080/"
        },
        "outputId": "ca2be734-ec5e-4976-9970-e65c4d55e969"
      },
      "outputs": [
        {
          "output_type": "stream",
          "name": "stdout",
          "text": [
            "The validation accuracy is given by: 99.862524\n"
          ]
        }
      ],
      "source": [
        "pred_softmax = softmax_RICE.predict(X_val_RICE)\n",
        "print('The validation accuracy is given by: %f' % (get_acc(pred_softmax, y_val_RICE)))"
      ]
    },
    {
      "cell_type": "markdown",
      "metadata": {
        "id": "nk3EHv3Jfzcy"
      },
      "source": [
        "### Testing Softmax on Rice"
      ]
    },
    {
      "cell_type": "code",
      "execution_count": 179,
      "metadata": {
        "id": "jpxH4Opcfzcy",
        "colab": {
          "base_uri": "https://localhost:8080/"
        },
        "outputId": "11786469-df71-4e7b-fbed-6e08ec7b2bf1"
      },
      "outputs": [
        {
          "output_type": "stream",
          "name": "stdout",
          "text": [
            "The testing accuracy is given by: 99.780038\n"
          ]
        }
      ],
      "source": [
        "pred_softmax = softmax_RICE.predict(X_test_RICE)\n",
        "print('The testing accuracy is given by: %f' % (get_acc(pred_softmax, y_test_RICE)))"
      ]
    },
    {
      "cell_type": "markdown",
      "metadata": {
        "id": "jw76uARdfzcz"
      },
      "source": [
        "# Logistic Classifier"
      ]
    },
    {
      "cell_type": "markdown",
      "metadata": {
        "id": "cUPN2n4pfzcz"
      },
      "source": [
        "The Logistic Classifier has 2 hyperparameters that you can experiment with:\n",
        "- **Learning rate** - similar to as defined above in Perceptron, this parameter scales by how much the weights are changed according to the calculated gradient update.\n",
        "- **Number of Epochs** - As described for perceptron.\n",
        "- **Threshold** - The decision boundary of the classifier.\n"
      ]
    },
    {
      "cell_type": "markdown",
      "metadata": {
        "id": "JOLvauTYfzc0"
      },
      "source": [
        "You will implement the Logistic Classifier in the **models/logistic.py**\n",
        "\n",
        "The following code:\n",
        "- Creates an instance of the Logistic classifier class\n",
        "- The train function of the Logistic class is trained on the training data\n",
        "- We use the predict function to find the training accuracy as well as the testing accuracy"
      ]
    },
    {
      "cell_type": "markdown",
      "metadata": {
        "id": "SunQGkWJfzc0"
      },
      "source": [
        "### Training Logistic Classifer"
      ]
    },
    {
      "cell_type": "code",
      "execution_count": 184,
      "metadata": {
        "id": "b0r-pHFBfzc1"
      },
      "outputs": [],
      "source": [
        "learning_rate = 0.5\n",
        "n_epochs = 10\n",
        "threshold = 0.5\n",
        "\n",
        "lr = Logistic(learning_rate, n_epochs, threshold)\n",
        "\n",
        "lr.train(X_train_RICE, y_train_RICE)\n"
      ]
    },
    {
      "cell_type": "code",
      "execution_count": 185,
      "metadata": {
        "colab": {
          "base_uri": "https://localhost:8080/"
        },
        "id": "aoJ6mvEsfzc1",
        "outputId": "3417da4f-712e-4026-d733-97d3bfe20187"
      },
      "outputs": [
        {
          "output_type": "stream",
          "name": "stdout",
          "text": [
            "HELLO\n",
            "The training accuracy is given by: 99.220970\n",
            "<class 'int'>\n"
          ]
        }
      ],
      "source": [
        "pred_lr = lr.predict(X_train_RICE)\n",
        "copy_Y = np.copy(y_train_RICE)\n",
        "for i in range(0,len(y_train_RICE)):\n",
        "  if (copy_Y[i] == -1):\n",
        "    copy_Y[i] = 0\n",
        "print('The training accuracy is given by: %f' % (get_acc(pred_lr, copy_Y)))\n",
        "# print(y_train_RICE)\n",
        "# print(pred_lr)\n",
        "print(type(pred_lr[0]))"
      ]
    },
    {
      "cell_type": "markdown",
      "metadata": {
        "id": "ce8kvJDsfzc2"
      },
      "source": [
        "### Validate Logistic Classifer"
      ]
    },
    {
      "cell_type": "code",
      "execution_count": 186,
      "metadata": {
        "colab": {
          "base_uri": "https://localhost:8080/"
        },
        "id": "N6nEwILTfzc3",
        "outputId": "51e0fcfb-6173-4cef-ffc7-e89f5239a51a"
      },
      "outputs": [
        {
          "output_type": "stream",
          "name": "stdout",
          "text": [
            "HELLO\n",
            "The validation accuracy is given by: 99.312620\n"
          ]
        }
      ],
      "source": [
        "pred_lr = lr.predict(X_val_RICE)\n",
        "print('The validation accuracy is given by: %f' % (get_acc(pred_lr, y_val_RICE)))\n"
      ]
    },
    {
      "cell_type": "markdown",
      "metadata": {
        "id": "ssjlAavEfzc3"
      },
      "source": [
        "### Test Logistic Classifier"
      ]
    },
    {
      "cell_type": "code",
      "execution_count": 187,
      "metadata": {
        "colab": {
          "base_uri": "https://localhost:8080/"
        },
        "id": "tZ9rWCXffzc4",
        "outputId": "deae239b-7f0d-4619-9c64-1f2ed1ddc634"
      },
      "outputs": [
        {
          "output_type": "stream",
          "name": "stdout",
          "text": [
            "HELLO\n",
            "The testing accuracy is given by: 99.257630\n"
          ]
        }
      ],
      "source": [
        "pred_lr = lr.predict(X_test_RICE)\n",
        "print('The testing accuracy is given by: %f' % (get_acc(pred_lr, y_test_RICE)))\n"
      ]
    }
  ],
  "metadata": {
    "colab": {
      "provenance": [],
      "include_colab_link": true
    },
    "kernelspec": {
      "display_name": "Python 3",
      "language": "python",
      "name": "python3"
    },
    "language_info": {
      "codemirror_mode": {
        "name": "ipython",
        "version": 3
      },
      "file_extension": ".py",
      "mimetype": "text/x-python",
      "name": "python",
      "nbconvert_exporter": "python",
      "pygments_lexer": "ipython3",
      "version": "3.6.13"
    },
    "vscode": {
      "interpreter": {
        "hash": "397704579725e15f5c7cb49fe5f0341eb7531c82d19f2c29d197e8b64ab5776b"
      }
    }
  },
  "nbformat": 4,
  "nbformat_minor": 0
}